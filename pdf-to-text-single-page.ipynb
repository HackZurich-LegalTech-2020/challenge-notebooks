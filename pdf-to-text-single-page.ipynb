{
 "cells": [
  {
   "cell_type": "markdown",
   "metadata": {},
   "source": [
    "<CENTER>\n",
    "    <h1>LegalTech HackZurich 2020</h1>\n",
    "    <br><hr></br>\n",
    "    <a href=\"http://universidad.ch/hackzurich/suite/\" class=\"icons\"><img src=\"https://hackzurich.com/media/pages/workshops/15-legaltech/4173366116-1599065131/legaltech-600x-copy-600x.png\" style=\"width:20%\"></a>\n",
    "</CENTER>"
   ]
  },
  {
   "cell_type": "code",
   "execution_count": null,
   "metadata": {},
   "outputs": [],
   "source": [
    "%%html\n",
    "<style>\n",
    "div.input {\n",
    "    display:none;\n",
    "}\n",
    "</style>"
   ]
  },
  {
   "cell_type": "code",
   "execution_count": null,
   "metadata": {},
   "outputs": [],
   "source": [
    "from IPython.display import IFrame\n",
    "IFrame('./Template 5_ENG.pdf', width=\"100%\", height=800)"
   ]
  },
  {
   "cell_type": "code",
   "execution_count": null,
   "metadata": {},
   "outputs": [],
   "source": [
    "# importing required modules\n",
    "import PyPDF2\n",
    "\n",
    "# creating a pdf file object\n",
    "pdfFileObj = open('Template 5_ENG.pdf', 'rb')"
   ]
  },
  {
   "cell_type": "code",
   "execution_count": null,
   "metadata": {},
   "outputs": [],
   "source": [
    "# creating a pdf reader object\n",
    "pdfReader = PyPDF2.PdfFileReader(pdfFileObj)"
   ]
  },
  {
   "cell_type": "code",
   "execution_count": null,
   "metadata": {},
   "outputs": [],
   "source": [
    "# creating a page object\n",
    "pageObj = pdfReader.getPage(0)\n",
    "\n",
    "text = pageObj.extractText()\n",
    "text = text.replace('-\\n', '')"
   ]
  },
  {
   "cell_type": "code",
   "execution_count": null,
   "metadata": {},
   "outputs": [],
   "source": [
    "# extracting text from page\n",
    "#print(pageObj.extractText())\n",
    "print(text)"
   ]
  },
  {
   "cell_type": "code",
   "execution_count": null,
   "metadata": {},
   "outputs": [],
   "source": [
    "# closing the pdf file object\n",
    "pdfFileObj.close()"
   ]
  },
  {
   "cell_type": "code",
   "execution_count": null,
   "metadata": {},
   "outputs": [],
   "source": [
    "##\n",
    "f = open(\"text-eng.txt\", \"w\")\n",
    "f.write(text)\n",
    "f.close()"
   ]
  },
  {
   "cell_type": "code",
   "execution_count": null,
   "metadata": {},
   "outputs": [],
   "source": [
    "from googlesearch import search\n",
    "\n",
    "query = \"Sunrise inc\"\n",
    "\n",
    "for i in search(query, tld=\"co.in\", num=10, stop=6, pause=2):\n",
    "    print(i)"
   ]
  },
  {
   "cell_type": "markdown",
   "metadata": {},
   "source": [
    "<CENTER>\n",
    "    <a href=\"http://universidad.ch/hackzurich/suite/\" class=\"icons\"><img src=\"http://universidad.ch/hackzurich/suite/logos/footer-hackathon.png\" style=\"width:90%\"></a>\n",
    "</CENTER>"
   ]
  },
  {
   "cell_type": "code",
   "execution_count": null,
   "metadata": {},
   "outputs": [],
   "source": [
    "# insert contents of \"/test1.txt\" into \"/test2.txt\" at line 20\n",
    "with open(\"text-eng.txt\", \"r\") as f1:\n",
    "    t1 = f1.readlines()\n",
    "with open(\"html.html\", \"r\") as f2:\n",
    "    t2 = f2.readlines()\n",
    "t2.insert(71, t1)\n",
    "with open(\"html.html\", \"w\") as f2:\n",
    "    f2.writelines(str(t2))"
   ]
  },
  {
   "cell_type": "code",
   "execution_count": 1,
   "metadata": {},
   "outputs": [
    {
     "data": {
      "text/html": [
       "\n",
       "        <iframe\n",
       "            width=\"100%\"\n",
       "            height=\"800\"\n",
       "            src=\"./html.html\"\n",
       "            frameborder=\"0\"\n",
       "            allowfullscreen\n",
       "        ></iframe>\n",
       "        "
      ],
      "text/plain": [
       "<IPython.lib.display.IFrame at 0x7feee402a780>"
      ]
     },
     "execution_count": 1,
     "metadata": {},
     "output_type": "execute_result"
    }
   ],
   "source": [
    "from IPython.display import IFrame\n",
    "IFrame('./html.html', width=\"100%\", height=800)"
   ]
  },
  {
   "cell_type": "code",
   "execution_count": null,
   "metadata": {},
   "outputs": [],
   "source": []
  }
 ],
 "metadata": {
  "kernelspec": {
   "display_name": "Python 3",
   "language": "python",
   "name": "python3"
  },
  "language_info": {
   "codemirror_mode": {
    "name": "ipython",
    "version": 3
   },
   "file_extension": ".py",
   "mimetype": "text/x-python",
   "name": "python",
   "nbconvert_exporter": "python",
   "pygments_lexer": "ipython3",
   "version": "3.6.9"
  }
 },
 "nbformat": 4,
 "nbformat_minor": 2
}
