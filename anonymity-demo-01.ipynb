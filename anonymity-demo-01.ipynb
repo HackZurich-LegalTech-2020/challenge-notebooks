{
 "cells": [
  {
   "cell_type": "markdown",
   "metadata": {},
   "source": [
    "<CENTER>\n",
    "    <h1>LegalTech HackZurich 2020</h1>\n",
    "    <br><hr></br>\n",
    "    <a href=\"http://universidad.ch/hackzurich/suite/\" class=\"icons\"><img src=\"https://hackzurich.com/media/pages/workshops/15-legaltech/4173366116-1599065131/legaltech-600x-copy-600x.png\" style=\"width:20%\"></a>\n",
    "</CENTER>"
   ]
  },
  {
   "cell_type": "code",
   "execution_count": null,
   "metadata": {},
   "outputs": [],
   "source": [
    "%%html\n",
    "<style>\n",
    "div.input {\n",
    "    display:none;\n",
    "}\n",
    "</style>"
   ]
  },
  {
   "cell_type": "code",
   "execution_count": null,
   "metadata": {},
   "outputs": [],
   "source": [
    "from IPython.display import IFrame\n",
    "IFrame('./contract-page-example.png', width=\"100%\", height=800)"
   ]
  },
  {
   "cell_type": "code",
   "execution_count": null,
   "metadata": {},
   "outputs": [],
   "source": [
    "import cv2\n",
    "import numpy as np\n",
    "from matplotlib import pyplot as plt\n",
    "import pytesseract"
   ]
  },
  {
   "cell_type": "code",
   "execution_count": null,
   "metadata": {},
   "outputs": [],
   "source": [
    "import imutils\n",
    "from imutils import contours\n",
    "from imutils.perspective import four_point_transform\n",
    "from skimage.filters import threshold_local"
   ]
  },
  {
   "cell_type": "code",
   "execution_count": null,
   "metadata": {},
   "outputs": [],
   "source": [
    "def displayColorImage(image, title):\n",
    "    plt.imshow(cv2.cvtColor(image, cv2.COLOR_BGR2RGB), interpolation=\"nearest\")\n",
    "    plt.title(title)\n",
    "    plt.show()"
   ]
  },
  {
   "cell_type": "code",
   "execution_count": null,
   "metadata": {},
   "outputs": [],
   "source": [
    "def displayGrayScaleImage(image, title):\n",
    "    plt.imshow(image, cmap='gray', vmin = 0.0, vmax = 255.0)\n",
    "    plt.title(title)\n",
    "    plt.show()"
   ]
  },
  {
   "cell_type": "code",
   "execution_count": null,
   "metadata": {},
   "outputs": [],
   "source": [
    "## clean ol files\n",
    "import os\n",
    "os.system('rm -r boxes.png numbers.png')"
   ]
  },
  {
   "cell_type": "code",
   "execution_count": null,
   "metadata": {},
   "outputs": [],
   "source": [
    "#orig = cv2.imread(\"receipt05.jpg\")\n",
    "#orig = cv2.imread(\"IMG_20200908_181359.jpg\")\n",
    "orig = cv2.imread(\"contract-page-example.png\")\n",
    "\n",
    "displayColorImage(orig, \"original\")"
   ]
  },
  {
   "cell_type": "code",
   "execution_count": null,
   "metadata": {},
   "outputs": [],
   "source": [
    "image = orig.copy()\n",
    "ratio = image.shape[0]/500.0\n",
    "image = imutils.resize(image, height=500)\n",
    "displayColorImage(image,\"resized\")"
   ]
  },
  {
   "cell_type": "code",
   "execution_count": null,
   "metadata": {},
   "outputs": [],
   "source": [
    "gray = cv2.cvtColor(image, cv2.COLOR_BGR2GRAY)\n",
    "displayGrayScaleImage(gray,\"grayscale image\")\n",
    "gray = cv2.GaussianBlur(gray, (5,5),0)\n",
    "displayGrayScaleImage(gray,\"after removing noise\")\n",
    "edged = cv2.Canny(gray, 75, 200)\n",
    "displayGrayScaleImage(edged,\"edges\")"
   ]
  },
  {
   "cell_type": "code",
   "execution_count": null,
   "metadata": {},
   "outputs": [],
   "source": [
    "cnts = cv2.findContours(edged.copy(), cv2.RETR_LIST, cv2.CHAIN_APPROX_SIMPLE)\n",
    "cnts = imutils.grab_contours(cnts)\n",
    "cnts = sorted(cnts, key = cv2.contourArea, reverse = True)[:4]\n",
    "\n",
    "for c in cnts:\n",
    "    peri = cv2.arcLength(c, True)\n",
    "    approx = cv2.approxPolyDP(c, 0.02*peri, True)\n",
    "    if len(approx) == 4 :\n",
    "        screenCnt = approx\n",
    "        break\n",
    "\n",
    "cv2.drawContours(image, [screenCnt], -1, (0,255,0),2)\n",
    "displayColorImage(image, \"with contours\")\n",
    "print(screenCnt)\n",
    "print(screenCnt.reshape(4,2))"
   ]
  },
  {
   "cell_type": "code",
   "execution_count": null,
   "metadata": {},
   "outputs": [],
   "source": [
    "warped = four_point_transform(orig, screenCnt.reshape(4,2) * ratio)\n",
    "warped = cv2.cvtColor(warped, cv2.COLOR_BGR2GRAY)\n",
    "displayGrayScaleImage(warped, \"warped grayscale\")"
   ]
  },
  {
   "cell_type": "code",
   "execution_count": null,
   "metadata": {},
   "outputs": [],
   "source": [
    "cv2.imwrite('DR.png', warped)\n",
    "overlay = warped.copy()"
   ]
  },
  {
   "cell_type": "code",
   "execution_count": null,
   "metadata": {},
   "outputs": [],
   "source": [
    "#warped = cv2.adaptiveThreshold(warped, 255, cv2.ADAPTIVE_THRESH_GAUSSIAN_C, cv2.THRESH_BINARY, 35, 7)\n",
    "#displayGrayScaleImage(warped, \"warped post adpative threshold\")"
   ]
  },
  {
   "cell_type": "code",
   "execution_count": null,
   "metadata": {},
   "outputs": [],
   "source": [
    "##img = cv2.cvtColor(warped,cv2.COLOR_BGR2RGB)"
   ]
  },
  {
   "cell_type": "code",
   "execution_count": null,
   "metadata": {},
   "outputs": [],
   "source": [
    "##cv2.imshow('Result',img)"
   ]
  },
  {
   "cell_type": "code",
   "execution_count": null,
   "metadata": {},
   "outputs": [],
   "source": [
    "print(pytesseract.image_to_string(warped))"
   ]
  },
  {
   "cell_type": "code",
   "execution_count": null,
   "metadata": {},
   "outputs": [],
   "source": [
    "rst = pytesseract.image_to_string(warped)\n",
    "f = open(\"result.txt\", \"w\")\n",
    "f.write(rst)\n",
    "f.close()"
   ]
  },
  {
   "cell_type": "code",
   "execution_count": null,
   "metadata": {},
   "outputs": [],
   "source": [
    "import time"
   ]
  },
  {
   "cell_type": "code",
   "execution_count": null,
   "metadata": {},
   "outputs": [],
   "source": [
    "img = warped\n",
    "#############################################\n",
    "#### Detecting Words  ######\n",
    "#############################################\n",
    "#[   0          1           2           3           4          5         6       7       8        9        10       11 ]\n",
    "#['level', 'page_num', 'block_num', 'par_num', 'line_num', 'word_num', 'left', 'top', 'width', 'height', 'conf', 'text']\n",
    "sortfile = 'names-sorted-uniq.txt' ## file coming from Notebook name-extract-00.ipynb \n",
    "\n",
    "boxes = pytesseract.image_to_data(img)\n",
    "for a,b in enumerate(boxes.splitlines()):\n",
    "        print(b)\n",
    "        if a!=0:\n",
    "            b = b.split()\n",
    "            if len(b)==12:\n",
    "                if b[11] in open(sortfile).read():\n",
    "                    x,y,w,h = int(b[6]),int(b[7]),int(b[8]),int(b[9])\n",
    "                    #cv2.putText(img,b[11],(x,y-5),cv2.FONT_HERSHEY_SIMPLEX,1,(50,50,255),2)\n",
    "                    cv2.rectangle(img, (x,y), (x+w, y+h), (50, 50, 255), 18)"
   ]
  },
  {
   "cell_type": "code",
   "execution_count": null,
   "metadata": {},
   "outputs": [],
   "source": [
    "#displayColorImage(img, \"original\")"
   ]
  },
  {
   "cell_type": "code",
   "execution_count": null,
   "metadata": {},
   "outputs": [],
   "source": [
    "cv2.imwrite('boxes.png', img)"
   ]
  },
  {
   "cell_type": "code",
   "execution_count": null,
   "metadata": {},
   "outputs": [],
   "source": [
    "##############################################\n",
    "##### Detecting ONLY Digits  ######\n",
    "##############################################\n",
    "#hImg, wImg = overlay.shape\n",
    "#conf = r'--oem 3 --psm 6 outputbase digits'\n",
    "#boxes = pytesseract.image_to_boxes(overlay,config=conf)\n",
    "#for b in boxes.splitlines():\n",
    "#    print(b)\n",
    "#    b = b.split(' ')\n",
    "#    print(b)\n",
    "#    x, y, w, h = int(b[1]), int(b[2]), int(b[3]), int(b[4])\n",
    "#    #cv2.rectangle(img, (x,hImg- y), (w,hImg- h), (50, 50, 255), 2)\n",
    "#    cv2.putText(overlay,b[0],(x,hImg- y+20),cv2.FONT_HERSHEY_SIMPLEX,1,(50,50,255),2)"
   ]
  },
  {
   "cell_type": "code",
   "execution_count": null,
   "metadata": {},
   "outputs": [],
   "source": [
    "#cv2.imwrite('numbers.png', overlay)"
   ]
  },
  {
   "cell_type": "markdown",
   "metadata": {},
   "source": [
    "## New picture"
   ]
  },
  {
   "cell_type": "code",
   "execution_count": null,
   "metadata": {},
   "outputs": [],
   "source": [
    "import imageio\n",
    "import matplotlib.pyplot as plt\n",
    "%matplotlib inline\n",
    "picBox = imageio.imread('boxes.png')\n",
    "plt.figure(figsize = (25,25))\n",
    "plt.imshow(picBox)"
   ]
  },
  {
   "cell_type": "code",
   "execution_count": null,
   "metadata": {},
   "outputs": [],
   "source": [
    "#picNum = imageio.imread('numbers.png')\n",
    "#plt.figure(figsize = (25,25))\n",
    "#plt.imshow(picNum)"
   ]
  },
  {
   "cell_type": "code",
   "execution_count": null,
   "metadata": {},
   "outputs": [],
   "source": [
    "from IPython.display import IFrame\n",
    "IFrame('./boxes.png', width=\"100%\", height=800)"
   ]
  },
  {
   "cell_type": "markdown",
   "metadata": {},
   "source": [
    "<CENTER>\n",
    "    <a href=\"http://universidad.ch/hackzurich/suite/\" class=\"icons\"><img src=\"http://universidad.ch/hackzurich/suite/logos/footer-hackathon.png\" style=\"width:90%\"></a>\n",
    "</CENTER>"
   ]
  }
 ],
 "metadata": {
  "kernelspec": {
   "display_name": "Python 3",
   "language": "python",
   "name": "python3"
  },
  "language_info": {
   "codemirror_mode": {
    "name": "ipython",
    "version": 3
   },
   "file_extension": ".py",
   "mimetype": "text/x-python",
   "name": "python",
   "nbconvert_exporter": "python",
   "pygments_lexer": "ipython3",
   "version": "3.6.9"
  }
 },
 "nbformat": 4,
 "nbformat_minor": 2
}
